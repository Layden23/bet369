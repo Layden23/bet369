{
 "cells": [
  {
   "cell_type": "code",
   "execution_count": null,
   "metadata": {},
   "outputs": [
    {
     "name": "stdout",
     "output_type": "stream",
     "text": [
      " * Serving Flask app \"__main__\" (lazy loading)\n",
      " * Environment: production\n",
      "   WARNING: This is a development server. Do not use it in a production deployment.\n",
      "   Use a production WSGI server instead.\n",
      " * Debug mode: off\n"
     ]
    },
    {
     "name": "stderr",
     "output_type": "stream",
     "text": [
      " * Running on http://127.0.0.1:5000/ (Press CTRL+C to quit)\n",
      "127.0.0.1 - - [08/Nov/2019 14:40:28] \"\u001b[37mGET /prob HTTP/1.1\u001b[0m\" 200 -\n",
      "127.0.0.1 - - [08/Nov/2019 14:40:50] \"\u001b[37mGET /prob HTTP/1.1\u001b[0m\" 200 -\n",
      "127.0.0.1 - - [08/Nov/2019 14:41:25] \"\u001b[37mGET /prob HTTP/1.1\u001b[0m\" 200 -\n",
      "127.0.0.1 - - [08/Nov/2019 14:41:44] \"\u001b[37mGET /prob HTTP/1.1\u001b[0m\" 200 -\n",
      "127.0.0.1 - - [08/Nov/2019 14:41:58] \"\u001b[37mGET /prob HTTP/1.1\u001b[0m\" 200 -\n",
      "127.0.0.1 - - [08/Nov/2019 14:42:10] \"\u001b[37mGET /prob HTTP/1.1\u001b[0m\" 200 -\n",
      "127.0.0.1 - - [08/Nov/2019 14:42:22] \"\u001b[37mGET /prob HTTP/1.1\u001b[0m\" 200 -\n",
      "127.0.0.1 - - [08/Nov/2019 14:43:30] \"\u001b[37mGET /prob HTTP/1.1\u001b[0m\" 200 -\n",
      "127.0.0.1 - - [08/Nov/2019 14:44:55] \"\u001b[37mGET /prob HTTP/1.1\u001b[0m\" 200 -\n",
      "127.0.0.1 - - [08/Nov/2019 14:45:26] \"\u001b[37mGET /prob HTTP/1.1\u001b[0m\" 200 -\n",
      "127.0.0.1 - - [08/Nov/2019 14:45:52] \"\u001b[37mGET /prob HTTP/1.1\u001b[0m\" 200 -\n",
      "127.0.0.1 - - [08/Nov/2019 14:47:06] \"\u001b[37mGET /prob HTTP/1.1\u001b[0m\" 200 -\n",
      "127.0.0.1 - - [08/Nov/2019 14:51:17] \"\u001b[37mGET /prob HTTP/1.1\u001b[0m\" 200 -\n",
      "127.0.0.1 - - [08/Nov/2019 16:46:42] \"\u001b[37mGET /prob HTTP/1.1\u001b[0m\" 200 -\n"
     ]
    }
   ],
   "source": [
    "import pandas as pd,numpy as np\n",
    "import time, random, pickle\n",
    "from datetime import datetime\n",
    "import urllib.request, json\n",
    "from flask import Flask,jsonify\n",
    "\n",
    "\n",
    "app = Flask(__name__)\n",
    "@app.route(\"/prob\")\n",
    "def hello():\n",
    "    #Open webpage\n",
    "    with urllib.request.urlopen(\"https://young-mountain-84413.herokuapp.com/goles\") as url:\n",
    "        live = json.loads(url.read().decode())\n",
    "\n",
    "    nlive = []\n",
    "    #Get matches that have more that have our info:\n",
    "    for i in live:\n",
    "        if \"rd\" in i:\n",
    "            if \"sd\" in i:\n",
    "                if \"plus\" in i:\n",
    "                    nlive.append(i)\n",
    "\n",
    "    df = pd.DataFrame()\n",
    "    df2 = pd.DataFrame()\n",
    "    test = pd.DataFrame()\n",
    "    n = range(len(nlive))\n",
    "    for i in n:\n",
    "        a = pd.DataFrame({nlive[i][\"id\"]},index= [i])\n",
    "        a = a.rename(columns = {0:\"MatchID\"})\n",
    "        rd = pd.DataFrame(nlive[i][\"rd\"], index = [i])\n",
    "        rd = rd.rename(columns={ 'hg': 'HostGoalsFT', 'gg': 'GuestGoalsFT',\n",
    "            'hc': 'HostCornersFT', 'gc': 'GuestCornersFT', 'hy': 'HostYCFT', 'gy': 'GuestYCFT', 'hr': 'HostRCFT', 'gr': 'GuestRCFT'})\n",
    "        plus = pd.DataFrame(nlive[i][\"plus\"], index = [i])\n",
    "        plus = plus.rename(columns={ 'ha': 'HostAttacksFT', 'ga': 'GuestAttacksFT', 'hd': 'HostDAttacksFT',\n",
    "            'gd': 'GuestDAttacksFT', 'hso': 'HostonTargetFT', 'gso': 'GuestonTargetFT', 'hsf': 'HostoffTargetFT',\n",
    "            'gsf': 'GuestoffTargetFT', 'hqq': 'HostPossessionFT','gqq': 'GuestPossessionFT'})\n",
    "        sdh = pd.DataFrame(nlive[i][\"sd\"][\"h\"], index = [i])\n",
    "        sdh = sdh.rename(columns={'hrf': 'HostHandicapHT',\n",
    "            'hdx': 'ExpectedGoalsHT', 'hcb': 'BettingCuoteHT'})\n",
    "        sdf = pd.DataFrame(nlive[i][\"sd\"][\"f\"], index = [i])\n",
    "        sdf = sdf.rename(columns={'hrf': 'HostHandicapFT', 'hdx': 'ExpectedGoalsFT', 'hcb': 'BettingCuoteFT'})\n",
    "        status = pd.DataFrame({nlive[i][\"status\"]},index= [i])\n",
    "        status = status.rename(columns = {0:\"Status\"})\n",
    "\n",
    "\n",
    "        df = pd.concat([a,rd,plus,sdf,sdh, status], axis = 1)\n",
    "        df2 = df.loc[:,['MatchID','HostCornersFT','GuestCornersFT','HostYCFT',\n",
    "                       'GuestYCFT','HostRCFT', 'GuestRCFT', 'HostAttacksFT', 'GuestAttacksFT', 'HostDAttacksFT',\n",
    "                       'GuestDAttacksFT', 'HostonTargetFT', 'GuestonTargetFT', 'HostoffTargetFT', 'GuestoffTargetFT',\n",
    "                       'HostPossessionFT', 'GuestPossessionFT',\"Status\"]]\n",
    "        test = pd.concat([test,df2])\n",
    "\n",
    "    # load the model from disk\n",
    "    rf = pickle.load(open('finalized_model.sav', 'rb'))\n",
    "    test = test.dropna()\n",
    "    # test = test.loc[(test['HostPossessionFT'] != 0) & (test['GuestPossessionFT'] != 0)]\n",
    "    test = test.drop(test[test[\"Status\"] == \"HT\"].index)\n",
    "    test = test.drop(test[test[\"Status\"] == \"NS\"].index)\n",
    "    test = test.drop(test[test[\"Status\"] == \"FT\"].index)\n",
    "    ntest = test.loc[:,['HostCornersFT','GuestCornersFT','HostYCFT',\n",
    "                       'GuestYCFT','HostRCFT', 'GuestRCFT', 'HostAttacksFT', 'GuestAttacksFT', 'HostDAttacksFT',\n",
    "                       'GuestDAttacksFT', 'HostonTargetFT', 'GuestonTargetFT', 'HostoffTargetFT', 'GuestoffTargetFT',\n",
    "                       'HostPossessionFT', 'GuestPossessionFT',\"Status\"]]\n",
    "    for i in ntest.columns:\n",
    "        ntest[i] = pd.to_numeric(ntest[i])\n",
    "    test[\"Probability\"] = rf.predict_proba(ntest)[:,1]\n",
    "    test = test[[\"MatchID\",\"Probability\"]]\n",
    "    testdict = test.to_dict('r')\n",
    "    return jsonify(testdict)\n",
    "if __name__ == \"__main__\":\n",
    "    app.run()\n"
   ]
  }
 ],
 "metadata": {
  "kernelspec": {
   "display_name": "Python 3",
   "language": "python",
   "name": "python3"
  },
  "language_info": {
   "codemirror_mode": {
    "name": "ipython",
    "version": 3
   },
   "file_extension": ".py",
   "mimetype": "text/x-python",
   "name": "python",
   "nbconvert_exporter": "python",
   "pygments_lexer": "ipython3",
   "version": "3.7.3"
  }
 },
 "nbformat": 4,
 "nbformat_minor": 2
}

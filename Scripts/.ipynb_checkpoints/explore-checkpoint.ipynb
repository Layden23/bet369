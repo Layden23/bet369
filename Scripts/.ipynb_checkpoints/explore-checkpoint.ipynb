{
 "cells": [
  {
   "cell_type": "markdown",
   "metadata": {
    "colab_type": "text",
    "id": "OWaWMBIjdrx0"
   },
   "source": [
    "# Gambling Project"
   ]
  },
  {
   "cell_type": "code",
   "execution_count": 0,
   "metadata": {
    "colab": {},
    "colab_type": "code",
    "id": "IhkPGpOKd0nq"
   },
   "outputs": [],
   "source": [
    "import pandas as pd\n",
    "import scipy\n",
    "import math as mt\n",
    "import numpy as np\n",
    "import pandas as pd\n",
    "import plotly.express as px\n",
    "import matplotlib.pyplot as plt\n",
    "import sklearn \n",
    "import json\n",
    "import io"
   ]
  },
  {
   "cell_type": "code",
   "execution_count": 2,
   "metadata": {
    "colab": {
     "base_uri": "https://localhost:8080/",
     "height": 122
    },
    "colab_type": "code",
    "executionInfo": {
     "elapsed": 25388,
     "status": "ok",
     "timestamp": 1571664529574,
     "user": {
      "displayName": "Joël Ribera",
      "photoUrl": "https://lh3.googleusercontent.com/a-/AAuE7mDdHYFeVjGGVN0Wu1DxvTjgkqpmfEoYE17a7ZOQ4A=s64",
      "userId": "18155868002666249953"
     },
     "user_tz": -120
    },
    "id": "Dt5ilC4bgo9N",
    "outputId": "55bb86f6-e1c4-44ae-c579-53af915e2917"
   },
   "outputs": [
    {
     "name": "stdout",
     "output_type": "stream",
     "text": [
      "Go to this URL in a browser: https://accounts.google.com/o/oauth2/auth?client_id=947318989803-6bn6qk8qdgf4n4g3pfee6491hc0brc4i.apps.googleusercontent.com&redirect_uri=urn%3Aietf%3Awg%3Aoauth%3A2.0%3Aoob&scope=email%20https%3A%2F%2Fwww.googleapis.com%2Fauth%2Fdocs.test%20https%3A%2F%2Fwww.googleapis.com%2Fauth%2Fdrive%20https%3A%2F%2Fwww.googleapis.com%2Fauth%2Fdrive.photos.readonly%20https%3A%2F%2Fwww.googleapis.com%2Fauth%2Fpeopleapi.readonly&response_type=code\n",
      "\n",
      "Enter your authorization code:\n",
      "··········\n",
      "Mounted at /content/drive\n"
     ]
    }
   ],
   "source": [
    "from google.colab import drive\n",
    "drive.mount('/content/drive')"
   ]
  },
  {
   "cell_type": "code",
   "execution_count": 23,
   "metadata": {
    "colab": {
     "base_uri": "https://localhost:8080/",
     "height": 340
    },
    "colab_type": "code",
    "executionInfo": {
     "elapsed": 1185,
     "status": "ok",
     "timestamp": 1571667923833,
     "user": {
      "displayName": "Joël Ribera",
      "photoUrl": "https://lh3.googleusercontent.com/a-/AAuE7mDdHYFeVjGGVN0Wu1DxvTjgkqpmfEoYE17a7ZOQ4A=s64",
      "userId": "18155868002666249953"
     },
     "user_tz": -120
    },
    "id": "kyeNNqWFdxQI",
    "outputId": "c6f784ad-e66d-4507-ebd4-49a211490670"
   },
   "outputs": [
    {
     "data": {
      "text/plain": [
       "['id',\n",
       " 'league',\n",
       " 'host',\n",
       " 'guest',\n",
       " 'heh',\n",
       " 'lvc',\n",
       " 'rcn',\n",
       " 'zhanyi',\n",
       " 'sd',\n",
       " 'events',\n",
       " 'events_graph',\n",
       " 'ss',\n",
       " 'ss_ta',\n",
       " 'rd',\n",
       " 'plus',\n",
       " 'rh',\n",
       " 'status',\n",
       " 'h_ld',\n",
       " 'f_ld']"
      ]
     },
     "execution_count": 23,
     "metadata": {
      "tags": []
     },
     "output_type": "execute_result"
    }
   ],
   "source": [
    "#Import Datasets\n",
    "with open('/content/drive/My Drive/Github/bet710/Datasets/clean_live.json', 'r') as JSON:\n",
    "    live = json.load(JSON)\n",
    "    \n",
    "list(live.keys())\n"
   ]
  },
  {
   "cell_type": "code",
   "execution_count": 0,
   "metadata": {
    "colab": {},
    "colab_type": "code",
    "id": "Y99cwzdWtU5C"
   },
   "outputs": [],
   "source": [
    "with open('/content/drive/My Drive/Github/bet710/Datasets/clean_live.json', 'r') as file:\n",
    "    data = file.read()"
   ]
  },
  {
   "cell_type": "code",
   "execution_count": 29,
   "metadata": {
    "colab": {
     "base_uri": "https://localhost:8080/",
     "height": 54
    },
    "colab_type": "code",
    "executionInfo": {
     "elapsed": 961,
     "status": "ok",
     "timestamp": 1571668140940,
     "user": {
      "displayName": "Joël Ribera",
      "photoUrl": "https://lh3.googleusercontent.com/a-/AAuE7mDdHYFeVjGGVN0Wu1DxvTjgkqpmfEoYE17a7ZOQ4A=s64",
      "userId": "18155868002666249953"
     },
     "user_tz": -120
    },
    "id": "V80_cepstcX6",
    "outputId": "9fb72677-4004-47a1-ac33-2b8214ab2bdd"
   },
   "outputs": [
    {
     "data": {
      "text/plain": [
       "'{\\n\\t\"id\": \"681945\",\\n\\t\"league\": {\\n\\t\\t\"i\": \"277\",\\n\\t\\t\"zc\": \"1\",\\n\\t\\t\"jc\": \"0\",\\n\\t\\t\"bd\": \"0\",\\n\\t\\t\"n\": \"SVN Cup\",\\n\\t\\t\"fn\": \"Slovenia Cup\",\\n\\t\\t\"ls\": \"S\",\\n\\t\\t\"sbn\": \"\",\\n\\t\\t\"stn\": \"\",\\n\\t\\t\"ci\": \"68\",\\n\\t\\t\"cn\": \"Slovenia\",\\n\\t\\t\"cs\": \"S\"\\n\\t},\\n\\t\"host\": {\\n\\t\\t\"i\": \"13052\",\\n\\t\\t\"n\": \"NK Nafta 1903\",\\n\\t\\t\"sbn\": \"\",\\n\\t\\t\"stn\": \"\"\\n\\t},\\n\\t\"guest\": {\\n\\t\\t\"i\": \"3325\",\\n\\t\\t\"n\": \"NK Rudar Velenje\",\\n\\t\\t\"sbn\": \"\",\\n\\t\\t\"stn\": \"\"\\n\\t},\\n\\t\"heh\": \"0\",\\n\\t\"lvc\": 0,\\n\\t\"rcn\": 6,\\n\\t\"zhanyi\": \"0\",\\n\\t\"sd\": {\\n\\t\\t\"f\": {\\n\\t\\t\\t\"hrf\": \"0.0\",\\n\\t\\t\\t\"hdx\": \"3.25\",\\n\\t\\t\\t\"hcb\": null\\n\\t\\t},\\n\\t\\t\"h\": {\\n\\t\\t\\t\"hrf\": \"0.0\",\\n\\t\\t\\t\"hdx\": \"1.25\",\\n\\t\\t\\t\"hcb\": null\\n\\t\\t}\\n\\t},\\n\\t\"events\": [\\n\\t\\t{\\n\\t\\t\\t\"t\": \"e\",\\n\\t\\t\\t\"c\": \"Score After Full Time - 2-1\"\\n\\t\\t},\\n\\t\\t{\\n\\t\\t\\t\"t\": \"it\",\\n\\t\\t\\t\"c\": \"Second Half Injury Time: 4 Mins\"\\n\\t\\t},\\n\\t\\t{\\n\\t\\t\\t\"t\": \"gyc\",\\n\\t\\t\\t\"c\": \"86 - 3rd Yellow Card -  (NK Rudar Velenje)\"\\n\\t\\t},\\n\\t\\t{\\n\\t\\t\\t\"t\": \"gc\",\\n\\t\\t\\t\"c\": \"79 - 8th Corner - NK Rudar Velenje\"\\n\\t\\t},\\n\\t\\t{\\n\\t\\t\\t\"t\": \"gg\",\\n\\t\\t\\t\"c\": \"72 - 3rd Goal -   (NK Rudar Velenje) \"\\n\\t\\t},\\n\\t\\t{\\n\\t\\t\\t\"t\": \"d\",\\n\\t\\t\\t\"c\": \"72 - Race to 5 Corners - NK Rudar Velenje\"\\n\\t\\t},\\n\\t\\t{\\n\\t\\t\\t\"t\": \"gc\",\\n\\t\\t\\t\"c\": \"72 - 7th Corner - NK Rudar Velenje\"\\n\\t\\t},\\n\\t\\t{\\n\\t\\t\\t\"t\": \"hg\",\\n\\t\\t\\t\"c\": \"64 - 2nd Goal -   (NK Nafta 1903) \"\\n\\t\\t},\\n\\t\\t{\\n\\t\\t\\t\"t\": \"gc\",\\n\\t\\t\\t\"c\": \"59 - 6th Corner - NK Rudar Velenje\"\\n\\t\\t},\\n\\t\\t{\\n\\t\\t\\t\"t\": \"d\",\\n\\t\\t\\t\"c\": \"53 - Race to 3 Corners - NK Rudar Velenje\"\\n\\t\\t},\\n\\t\\t{\\n\\t\\t\\t\"t\": \"gc\",\\n\\t\\t\\t\"c\": \"53 - 5th Corner - NK Rudar Velenje\"\\n\\t\\t},\\n\\t\\t{\\n\\t\\t\\t\"t\": \"gc\",\\n\\t\\t\\t\"c\": \"52 - 4th Corner - NK Rudar Velenje\"\\n\\t\\t},\\n\\t\\t{\\n\\t\\t\\t\"t\": \"hg\",\\n\\t\\t\\t\"c\": \"49 - 1st Goal -   (NK Nafta 1903)\"\\n\\t\\t},\\n\\t\\t{\\n\\t\\t\\t\"t\": \"h\",\\n\\t\\t\\t\"c\": \"Score After First Half - 0-0\"\\n\\t\\t},\\n\\t\\t{\\n\\t\\t\\t\"t\": \"it\",\\n\\t\\t\\t\"c\": \"First Half Injury Time: 1 Mins\"\\n\\t\\t},\\n\\t\\t{\\n\\t\\t\\t\"t\": \"hyc\",\\n\\t\\t\\t\"c\": \"45 - 2nd Yellow Card -  (NK Nafta 1903)\"\\n\\t\\t},\\n\\t\\t{\\n\\t\\t\\t\"t\": \"hc\",\\n\\t\\t\\t\"c\": \"38 - 3rd Corner - NK Nafta 1903\"\\n\\t\\t},\\n\\t\\t{\\n\\t\\t\\t\"t\": \"hc\",\\n\\t\\t\\t\"c\": \"27 - 2nd Corner - NK Nafta 1903\"\\n\\t\\t},\\n\\t\\t{\\n\\t\\t\\t\"t\": \"hyc\",\\n\\t\\t\\t\"c\": \"12 - 1st Yellow Card -  (NK Nafta 1903)\"\\n\\t\\t},\\n\\t\\t{\\n\\t\\t\\t\"t\": \"gc\",\\n\\t\\t\\t\"c\": \"4 - 1st Corner - NK Rudar Velenje\"\\n\\t\\t},\\n\\t\\t{\\n\\t\\t\\t\"t\": \"cd\",\\n\\t\\t\\t\"c\": \"Pitch: GOOD\"\\n\\t\\t},\\n\\t\\t{\\n\\t\\t\\t\"t\": \"tq\",\\n\\t\\t\\t\"c\": \"Weather: GOOD\"\\n\\t\\t}\\n\\t],\\n\\t\"events_graph\": {\\n\\t\\t\"events\": [\\n\\t\\t\\t{\\n\\t\\t\\t\\t\"status\": \"4\",\\n\\t\\t\\t\\t\"t\": \"gc\",\\n\\t\\t\\t\\t\"content\": \"4 - 1st Corner - NK Rudar Velenje\"\\n\\t\\t\\t},\\n\\t\\t\\t{\\n\\t\\t\\t\\t\"status\": \"27\",\\n\\t\\t\\t\\t\"t\": \"hc\",\\n\\t\\t\\t\\t\"content\": \"27 - 2nd Corner - NK Nafta 1903\"\\n\\t\\t\\t},\\n\\t\\t\\t{\\n\\t\\t\\t\\t\"status\": \"38\",\\n\\t\\t\\t\\t\"t\": \"hc\",\\n\\t\\t\\t\\t\"content\": \"38 - 3rd Corner - NK Nafta 1903\"\\n\\t\\t\\t},\\n\\t\\t\\t{\\n\\t\\t\\t\\t\"status\": \"49\",\\n\\t\\t\\t\\t\"t\": \"hg\",\\n\\t\\t\\t\\t\"content\": \"49 - 1st Goal -   (NK Nafta 1903) \"\\n\\t\\t\\t},\\n\\t\\t\\t{\\n\\t\\t\\t\\t\"status\": \"52\",\\n\\t\\t\\t\\t\"t\": \"gc\",\\n\\t\\t\\t\\t\"content\": \"52 - 4th Corner - NK Rudar Velenje\"\\n\\t\\t\\t},\\n\\t\\t\\t{\\n\\t\\t\\t\\t\"status\": \"53\",\\n\\t\\t\\t\\t\"t\": \"gc\",\\n\\t\\t\\t\\t\"content\": \"53 - 5th Corner - NK Rudar Velenje\"\\n\\t\\t\\t},\\n\\t\\t\\t{\\n\\t\\t\\t\\t\"status\": \"59\",\\n\\t\\t\\t\\t\"t\": \"gc\",\\n\\t\\t\\t\\t\"content\": \"59 - 6th Corner - NK Rudar Velenje\"\\n\\t\\t\\t},\\n\\t\\t\\t{\\n\\t\\t\\t\\t\"status\": \"64\",\\n\\t\\t\\t\\t\"t\": \"hg\",\\n\\t\\t\\t\\t\"content\": \"64 - 2nd Goal -   (NK Nafta 1903)\"\\n\\t\\t\\t},\\n\\t\\t\\t{\\n\\t\\t\\t\\t\"status\": \"72\",\\n\\t\\t\\t\\t\"t\": \"gc\",\\n\\t\\t\\t\\t\"content\": \"72 - 7th Corner - NK Rudar Velenje\"\\n\\t\\t\\t},\\n\\t\\t\\t{\\n\\t\\t\\t\\t\"status\": \"72\",\\n\\t\\t\\t\\t\"t\": \"gg\",\\n\\t\\t\\t\\t\"content\": \"72 - 3rd Goal -   (NK Rudar Velenje)\"\\n\\t\\t\\t},\\n\\t\\t\\t{\\n\\t\\t\\t\\t\"status\": \"79\",\\n\\t\\t\\t\\t\"t\": \"gc\",\\n\\t\\t\\t\\t\"content\": \"79 - 8th Corner - NK Rudar Velenje\"\\n\\t\\t\\t}\\n\\t\\t],\\n\\t\\t\"ml\": \"90\",\\n\\t\\t\"status\": \"90\"\\n\\t},\\n\\t\"ss\": \"S\",\\n\\t\"ss_ta\": \"0\",\\n\\t\"rd\": {\\n\\t\\t\"hg\": \"2\",\\n\\t\\t\"gg\": \"1\",\\n\\t\\t\"hc\": \"2\",\\n\\t\\t\"gc\": \"6\",\\n\\t\\t\"hy\": \"2\",\\n\\t\\t\"gy\": \"1\",\\n\\t\\t\"hr\": \"0\",\\n\\t\\t\"gr\": \"0\"\\n\\t},\\n\\t\"plus\": {\\n\\t\\t\"ha\": \"114\",\\n\\t\\t\"ga\": \"146\",\\n\\t\\t\"hd\": \"66\",\\n\\t\\t\"gd\": \"82\",\\n\\t\\t\"hso\": \"9\",\\n\\t\\t\"gso\": \"6\",\\n\\t\\t\"hsf\": \"6\",\\n\\t\\t\"gsf\": \"3\",\\n\\t\\t\"hqq\": \"41\",\\n\\t\\t\"gqq\": \"59\"\\n\\t},\\n\\t\"rh\": {\\n\\t\\t\"hg\": \"0\",\\n\\t\\t\"gg\": \"0\",\\n\\t\\t\"hc\": \"2\",\\n\\t\\t\"gc\": \"1\"\\n\\t},\\n\\t\"status\": \"85\",\\n\\t\"h_ld\": {\\n\\t\\t\"hrf\": -0.25,\\n\\t\\t\"hrfsp\": \"2.200\",\\n\\t\\t\"grfsp\": \"1.650\",\\n\\t\\t\"rft\": \"2\",\\n\\t\\t\"rf\": [\\n\\t\\t\\t{\\n\\t\\t\\t\\t\"hrf\": -0.25,\\n\\t\\t\\t\\t\"hrfsp\": \"2.200\",\\n\\t\\t\\t\\t\"grfsp\": \"1.650\",\\n\\t\\t\\t\\t\"rft\": \"2\",\\n\\t\\t\\t\\t\"ps\": \"2276\"\\n\\t\\t\\t},\\n\\t\\t\\t{\\n\\t\\t\\t\\t\"hrf\": -0.25,\\n\\t\\t\\t\\t\"hrfsp\": \"2.150\",\\n\\t\\t\\t\\t\"grfsp\": \"1.675\",\\n\\t\\t\\t\\t\"rft\": \"2\",\\n\\t\\t\\t\\t\"ps\": \"2250\"\\n\\t\\t\\t},\\n\\t\\t\\t{\\n\\t\\t\\t\\t\"hrf\": -0.25,\\n\\t\\t\\t\\t\"hrfsp\": \"2.075\",\\n\\t\\t\\t\\t\"grfsp\": \"1.725\",\\n\\t\\t\\t\\t\"rft\": \"2\",\\n\\t\\t\\t\\t\"ps\": \"2223\"\\n\\t\\t\\t},\\n\\t\\t\\t{\\n\\t\\t\\t\\t\"hrf\": -0.25,\\n\\t\\t\\t\\t\"hrfsp\": \"2.050\",\\n\\t\\t\\t\\t\"grfsp\": \"1.750\",\\n\\t\\t\\t\\t\"rft\": \"2\",\\n\\t\\t\\t\\t\"ps\": \"2196\"\\n\\t\\t\\t},\\n\\t\\t\\t{\\n\\t\\t\\t\\t\"hrf\": -0.25,\\n\\t\\t\\t\\t\"hrfsp\": \"2.000\",\\n\\t\\t\\t\\t\"grfsp\": \"1.800\",\\n\\t\\t\\t\\t\"rft\": \"2\",\\n\\t\\t\\t\\t\"ps\": \"2166\"\\n\\t\\t\\t}\\n\\t\\t],\\n\\t\\t\"hdx\": \"1.5\",\\n\\t\\t\"hdxsp\": \"3.000\",\\n\\t\\t\"gdxsp\": \"1.375\",\\n\\t\\t\"dxt\": \"2\",\\n\\t\\t\"dx\": [\\n\\t\\t\\t{\\n\\t\\t\\t\\t\"hdx\": \"1.5\",\\n\\t\\t\\t\\t\"hdxsp\": \"3.000\",\\n\\t\\t\\t\\t\"gdxsp\": \"1.375\",\\n\\t\\t\\t\\t\"dxt\": \"2\",\\n\\t\\t\\t\\t\"ps\": \"2276\"\\n\\t\\t\\t},\\n\\t\\t\\t{\\n\\t\\t\\t\\t\"hdx\": \"1.5\",\\n\\t\\t\\t\\t\"hdxsp\": \"2.850\",\\n\\t\\t\\t\\t\"gdxsp\": \"1.400\",\\n\\t\\t\\t\\t\"dxt\": \"2\",\\n\\t\\t\\t\\t\"ps\": \"2250\"\\n\\t\\t\\t},\\n\\t\\t\\t{\\n\\t\\t\\t\\t\"hdx\": \"1.5\",\\n\\t\\t\\t\\t\"hdxsp\": \"2.750\",\\n\\t\\t\\t\\t\"gdxsp\": \"1.425\",\\n\\t\\t\\t\\t\"dxt\": \"2\",\\n\\t\\t\\t\\t\"ps\": \"2223\"\\n\\t\\t\\t},\\n\\t\\t\\t{\\n\\t\\t\\t\\t\"hdx\": \"1.5\",\\n\\t\\t\\t\\t\"hdxsp\": \"2.675\",\\n\\t\\t\\t\\t\"gdxsp\": \"1.450\",\\n\\t\\t\\t\\t\"dxt\": \"2\",\\n\\t\\t\\t\\t\"ps\": \"2196\"\\n\\t\\t\\t},\\n\\t\\t\\t{\\n\\t\\t\\t\\t\"hdx\": \"1.5\",\\n\\t\\t\\t\\t\"hdxsp\": \"2.600\",\\n\\t\\t\\t\\t\"gdxsp\": \"1.475\",\\n\\t\\t\\t\\t\"dxt\": \"2\",\\n\\t\\t\\t\\t\"ps\": \"2166\"\\n\\t\\t\\t}\\n\\t\\t]\\n\\t},\\n\\t\"f_ld\": {\\n\\t\\t\"hrf\": \"-2\",\\n\\t\\t\"hrfsp\": \"1.850\",\\n\\t\\t\"grfsp\": \"1.950\",\\n\\t\\t\"rft\": \"2\",\\n\\t\\t\"rf\": [\\n\\t\\t\\t{\\n\\t\\t\\t\\t\"hrf\": \"-2\",\\n\\t\\t\\t\\t\"hrfsp\": \"1.850\",\\n\\t\\t\\t\\t\"grfsp\": \"1.950\",\\n\\t\\t\\t\\t\"rft\": \"2\",\\n\\t\\t\\t\\t\"ps\": \"2250\"\\n\\t\\t\\t},\\n\\t\\t\\t{\\n\\t\\t\\t\\t\"hrf\": \"-2\",\\n\\t\\t\\t\\t\"hrfsp\": \"1.825\",\\n\\t\\t\\t\\t\"grfsp\": \"1.975\",\\n\\t\\t\\t\\t\"rft\": \"2\",\\n\\t\\t\\t\\t\"ps\": \"2213\"\\n\\t\\t\\t},\\n\\t\\t\\t{\\n\\t\\t\\t\\t\"hrf\": \"-2\",\\n\\t\\t\\t\\t\"hrfsp\": \"1.800\",\\n\\t\\t\\t\\t\"grfsp\": \"2.000\",\\n\\t\\t\\t\\t\"rft\": \"0\",\\n\\t\\t\\t\\t\"ps\": \"2166\"\\n\\t\\t\\t},\\n\\t\\t\\t{\\n\\t\\t\\t\\t\"hrf\": -2.25,\\n\\t\\t\\t\\t\"hrfsp\": \"2.025\",\\n\\t\\t\\t\\t\"grfsp\": \"1.775\",\\n\\t\\t\\t\\t\"rft\": \"2\",\\n\\t\\t\\t\\t\"ps\": \"2136\"\\n\\t\\t\\t},\\n\\t\\t\\t{\\n\\t\\t\\t\\t\"hrf\": -2.25,\\n\\t\\t\\t\\t\"hrfsp\": \"2.000\",\\n\\t\\t\\t\\t\"grfsp\": \"1.800\",\\n\\t\\t\\t\\t\"rft\": \"2\",\\n\\t\\t\\t\\t\"ps\": \"2089\"\\n\\t\\t\\t}\\n\\t\\t],\\n\\t\\t\"hdx\": \"3.75\",\\n\\t\\t\"hdxsp\": \"2.000\",\\n\\t\\t\"gdxsp\": \"1.800\",\\n\\t\\t\"dxt\": \"2\",\\n\\t\\t\"dx\": [\\n\\t\\t\\t{\\n\\t\\t\\t\\t\"hdx\": \"3.75\",\\n\\t\\t\\t\\t\"hdxsp\": \"2.000\",\\n\\t\\t\\t\\t\"gdxsp\": \"1.800\",\\n\\t\\t\\t\\t\"dxt\": \"2\",\\n\\t\\t\\t\\t\"ps\": \"2276\"\\n\\t\\t\\t},\\n\\t\\t\\t{\\n\\t\\t\\t\\t\"hdx\": \"3.75\",\\n\\t\\t\\t\\t\"hdxsp\": \"1.975\",\\n\\t\\t\\t\\t\"gdxsp\": \"1.825\",\\n\\t\\t\\t\\t\"dxt\": \"2\",\\n\\t\\t\\t\\t\"ps\": \"2250\"\\n\\t\\t\\t},\\n\\t\\t\\t{\\n\\t\\t\\t\\t\"hdx\": \"3.75\",\\n\\t\\t\\t\\t\"hdxsp\": \"1.950\",\\n\\t\\t\\t\\t\"gdxsp\": \"1.850\",\\n\\t\\t\\t\\t\"dxt\": \"2\",\\n\\t\\t\\t\\t\"ps\": \"2213\"\\n\\t\\t\\t},\\n\\t\\t\\t{\\n\\t\\t\\t\\t\"hdx\": \"3.75\",\\n\\t\\t\\t\\t\"hdxsp\": \"1.925\",\\n\\t\\t\\t\\t\"gdxsp\": \"1.875\",\\n\\t\\t\\t\\t\"dxt\": \"2\",\\n\\t\\t\\t\\t\"ps\": \"2196\"\\n\\t\\t\\t},\\n\\t\\t\\t{\\n\\t\\t\\t\\t\"hdx\": \"3.75\",\\n\\t\\t\\t\\t\"hdxsp\": \"1.900\",\\n\\t\\t\\t\\t\"gdxsp\": \"1.900\",\\n\\t\\t\\t\\t\"dxt\": \"2\",\\n\\t\\t\\t\\t\"ps\": \"2166\"\\n\\t\\t\\t}\\n\\t\\t]\\n\\t}\\n}\\n'"
      ]
     },
     "execution_count": 29,
     "metadata": {
      "tags": []
     },
     "output_type": "execute_result"
    }
   ],
   "source": [
    "data"
   ]
  },
  {
   "cell_type": "code",
   "execution_count": 35,
   "metadata": {
    "colab": {
     "base_uri": "https://localhost:8080/",
     "height": 34
    },
    "colab_type": "code",
    "executionInfo": {
     "elapsed": 1910,
     "status": "ok",
     "timestamp": 1571668227462,
     "user": {
      "displayName": "Joël Ribera",
      "photoUrl": "https://lh3.googleusercontent.com/a-/AAuE7mDdHYFeVjGGVN0Wu1DxvTjgkqpmfEoYE17a7ZOQ4A=s64",
      "userId": "18155868002666249953"
     },
     "user_tz": -120
    },
    "id": "iSu1ws7yuJ9C",
    "outputId": "ec39b1bf-edf7-4f6e-c414-8a30cfc31ece"
   },
   "outputs": [
    {
     "data": {
      "text/plain": [
       "18"
      ]
     },
     "execution_count": 35,
     "metadata": {
      "tags": []
     },
     "output_type": "execute_result"
    }
   ],
   "source": [
    "import re\n",
    "len(re.findall(r'Corner', data))"
   ]
  },
  {
   "cell_type": "code",
   "execution_count": 0,
   "metadata": {
    "colab": {},
    "colab_type": "code",
    "id": "PBqQLOS7uafF"
   },
   "outputs": [],
   "source": [
    "with open('/content/drive/My Drive/Github/bet710/Datasets/goles.json', 'r') as file:\n",
    "    data = file.read()"
   ]
  },
  {
   "cell_type": "markdown",
   "metadata": {
    "colab_type": "text",
    "id": "FIuNrOGbxCFz"
   },
   "source": [
    "Understanding the dataset, we are going to call each key and see its features."
   ]
  },
  {
   "cell_type": "code",
   "execution_count": 68,
   "metadata": {
    "colab": {
     "base_uri": "https://localhost:8080/",
     "height": 34
    },
    "colab_type": "code",
    "executionInfo": {
     "elapsed": 784,
     "status": "ok",
     "timestamp": 1571674062764,
     "user": {
      "displayName": "Joël Ribera",
      "photoUrl": "https://lh3.googleusercontent.com/a-/AAuE7mDdHYFeVjGGVN0Wu1DxvTjgkqpmfEoYE17a7ZOQ4A=s64",
      "userId": "18155868002666249953"
     },
     "user_tz": -120
    },
    "id": "HVNrwn9JAsGW",
    "outputId": "ef93e92c-e035-489c-dc49-1a58c848b1d7"
   },
   "outputs": [
    {
     "data": {
      "text/plain": [
       "32"
      ]
     },
     "execution_count": 68,
     "metadata": {
      "tags": []
     },
     "output_type": "execute_result"
    }
   ],
   "source": [
    "data \n",
    "len(re.findall(r'[^\\]]*\"id\"',data))"
   ]
  },
  {
   "cell_type": "code",
   "execution_count": 80,
   "metadata": {
    "colab": {
     "base_uri": "https://localhost:8080/",
     "height": 578
    },
    "colab_type": "code",
    "executionInfo": {
     "elapsed": 818,
     "status": "ok",
     "timestamp": 1571674497719,
     "user": {
      "displayName": "Joël Ribera",
      "photoUrl": "https://lh3.googleusercontent.com/a-/AAuE7mDdHYFeVjGGVN0Wu1DxvTjgkqpmfEoYE17a7ZOQ4A=s64",
      "userId": "18155868002666249953"
     },
     "user_tz": -120
    },
    "id": "v3INiuycBTgj",
    "outputId": "12a93d65-2b21-4711-8a20-6bb1f12c454d"
   },
   "outputs": [
    {
     "data": {
      "text/plain": [
       "['\"id\"',\n",
       " '\"id\"',\n",
       " '\"id\"',\n",
       " '\"id\"',\n",
       " '\"id\"',\n",
       " '\"id\"',\n",
       " '\"id\"',\n",
       " '\"id\"',\n",
       " '\"id\"',\n",
       " '\"id\"',\n",
       " '\"id\"',\n",
       " '\"id\"',\n",
       " '\"id\"',\n",
       " '\"id\"',\n",
       " '\"id\"',\n",
       " '\"id\"',\n",
       " '\"id\"',\n",
       " '\"id\"',\n",
       " '\"id\"',\n",
       " '\"id\"',\n",
       " '\"id\"',\n",
       " '\"id\"',\n",
       " '\"id\"',\n",
       " '\"id\"',\n",
       " '\"id\"',\n",
       " '\"id\"',\n",
       " '\"id\"',\n",
       " '\"id\"',\n",
       " '\"id\"',\n",
       " '\"id\"',\n",
       " '\"id\"',\n",
       " '\"id\"',\n",
       " '\"id\"']"
      ]
     },
     "execution_count": 80,
     "metadata": {
      "tags": []
     },
     "output_type": "execute_result"
    }
   ],
   "source": [
    "re.findall(r'\\\"id\"*',data)"
   ]
  },
  {
   "cell_type": "markdown",
   "metadata": {
    "colab_type": "text",
    "id": "sO1GYrj77Cez"
   },
   "source": [
    "## ID"
   ]
  },
  {
   "cell_type": "code",
   "execution_count": 4,
   "metadata": {
    "colab": {
     "base_uri": "https://localhost:8080/",
     "height": 34
    },
    "colab_type": "code",
    "executionInfo": {
     "elapsed": 26937,
     "status": "ok",
     "timestamp": 1571664531147,
     "user": {
      "displayName": "Joël Ribera",
      "photoUrl": "https://lh3.googleusercontent.com/a-/AAuE7mDdHYFeVjGGVN0Wu1DxvTjgkqpmfEoYE17a7ZOQ4A=s64",
      "userId": "18155868002666249953"
     },
     "user_tz": -120
    },
    "id": "vMmVZmcMuTor",
    "outputId": "9df7847f-4a2d-4213-9242-c60047c74ec8"
   },
   "outputs": [
    {
     "data": {
      "text/plain": [
       "'681945'"
      ]
     },
     "execution_count": 4,
     "metadata": {
      "tags": []
     },
     "output_type": "execute_result"
    }
   ],
   "source": [
    "#Id of the match\n",
    "live[\"id\"]"
   ]
  },
  {
   "cell_type": "markdown",
   "metadata": {
    "colab_type": "text",
    "id": "sgvmS-M77Edj"
   },
   "source": [
    "## League"
   ]
  },
  {
   "cell_type": "code",
   "execution_count": 5,
   "metadata": {
    "colab": {
     "base_uri": "https://localhost:8080/",
     "height": 221
    },
    "colab_type": "code",
    "executionInfo": {
     "elapsed": 26916,
     "status": "ok",
     "timestamp": 1571664531148,
     "user": {
      "displayName": "Joël Ribera",
      "photoUrl": "https://lh3.googleusercontent.com/a-/AAuE7mDdHYFeVjGGVN0Wu1DxvTjgkqpmfEoYE17a7ZOQ4A=s64",
      "userId": "18155868002666249953"
     },
     "user_tz": -120
    },
    "id": "Afdl1yIgxMH1",
    "outputId": "63f7daae-9178-4964-8590-ed229b21fbca"
   },
   "outputs": [
    {
     "data": {
      "text/plain": [
       "{'bd': '0',\n",
       " 'ci': '68',\n",
       " 'cn': 'Slovenia',\n",
       " 'cs': 'S',\n",
       " 'fn': 'Slovenia Cup',\n",
       " 'i': '277',\n",
       " 'jc': '0',\n",
       " 'ls': 'S',\n",
       " 'n': 'SVN Cup',\n",
       " 'sbn': '',\n",
       " 'stn': '',\n",
       " 'zc': '1'}"
      ]
     },
     "execution_count": 5,
     "metadata": {
      "tags": []
     },
     "output_type": "execute_result"
    }
   ],
   "source": [
    "live[\"league\"]"
   ]
  },
  {
   "cell_type": "markdown",
   "metadata": {
    "colab_type": "text",
    "id": "-PUrj7szxRxR"
   },
   "source": [
    "Information about the league:\n",
    "\n",
    "*   ci = country id,\n",
    "*   cn = country name\n",
    "*   i = id\n",
    "\n"
   ]
  },
  {
   "cell_type": "markdown",
   "metadata": {
    "colab_type": "text",
    "id": "Xa5cwWkl7GsR"
   },
   "source": [
    "## Host"
   ]
  },
  {
   "cell_type": "code",
   "execution_count": 6,
   "metadata": {
    "colab": {
     "base_uri": "https://localhost:8080/",
     "height": 34
    },
    "colab_type": "code",
    "executionInfo": {
     "elapsed": 26863,
     "status": "ok",
     "timestamp": 1571664531153,
     "user": {
      "displayName": "Joël Ribera",
      "photoUrl": "https://lh3.googleusercontent.com/a-/AAuE7mDdHYFeVjGGVN0Wu1DxvTjgkqpmfEoYE17a7ZOQ4A=s64",
      "userId": "18155868002666249953"
     },
     "user_tz": -120
    },
    "id": "H7ecEWN0yFoF",
    "outputId": "c34711f9-b19a-478d-bb09-18b1995b84aa"
   },
   "outputs": [
    {
     "data": {
      "text/plain": [
       "{'i': '13052', 'n': 'NK Nafta 1903', 'sbn': '', 'stn': ''}"
      ]
     },
     "execution_count": 6,
     "metadata": {
      "tags": []
     },
     "output_type": "execute_result"
    }
   ],
   "source": [
    "live[\"host\"]"
   ]
  },
  {
   "cell_type": "markdown",
   "metadata": {
    "colab_type": "text",
    "id": "AwJ-jGqwyIcY"
   },
   "source": [
    "Information about the host:\n",
    "\n",
    "*   i = team id,\n",
    "*   n = name of the team\n",
    "*   sbn = NA\n",
    "*   stn = NA"
   ]
  },
  {
   "cell_type": "markdown",
   "metadata": {
    "colab_type": "text",
    "id": "Skr7INI_7Jq2"
   },
   "source": [
    "## Guest"
   ]
  },
  {
   "cell_type": "code",
   "execution_count": 7,
   "metadata": {
    "colab": {
     "base_uri": "https://localhost:8080/",
     "height": 34
    },
    "colab_type": "code",
    "executionInfo": {
     "elapsed": 26855,
     "status": "ok",
     "timestamp": 1571664531154,
     "user": {
      "displayName": "Joël Ribera",
      "photoUrl": "https://lh3.googleusercontent.com/a-/AAuE7mDdHYFeVjGGVN0Wu1DxvTjgkqpmfEoYE17a7ZOQ4A=s64",
      "userId": "18155868002666249953"
     },
     "user_tz": -120
    },
    "id": "o4biWXoJyYBb",
    "outputId": "00e0ce86-320b-4fbf-dbb8-af1f1de2b404"
   },
   "outputs": [
    {
     "data": {
      "text/plain": [
       "{'i': '3325', 'n': 'NK Rudar Velenje', 'sbn': '', 'stn': ''}"
      ]
     },
     "execution_count": 7,
     "metadata": {
      "tags": []
     },
     "output_type": "execute_result"
    }
   ],
   "source": [
    "live[\"guest\"]"
   ]
  },
  {
   "cell_type": "markdown",
   "metadata": {
    "colab_type": "text",
    "id": "mS1HVof-ycHf"
   },
   "source": [
    "Information about the guest:\n",
    "\n",
    "*   i = team id,\n",
    "*   n = name of the team\n",
    "*   sbn = NA\n",
    "*   stn = NA"
   ]
  },
  {
   "cell_type": "markdown",
   "metadata": {
    "colab_type": "text",
    "id": "GMwNAFbr7MiQ"
   },
   "source": [
    "## HEH Has Statistics"
   ]
  },
  {
   "cell_type": "code",
   "execution_count": 8,
   "metadata": {
    "colab": {
     "base_uri": "https://localhost:8080/",
     "height": 34
    },
    "colab_type": "code",
    "executionInfo": {
     "elapsed": 26839,
     "status": "ok",
     "timestamp": 1571664531155,
     "user": {
      "displayName": "Joël Ribera",
      "photoUrl": "https://lh3.googleusercontent.com/a-/AAuE7mDdHYFeVjGGVN0Wu1DxvTjgkqpmfEoYE17a7ZOQ4A=s64",
      "userId": "18155868002666249953"
     },
     "user_tz": -120
    },
    "id": "A-yN6csByej0",
    "outputId": "7ac0a477-5b7c-4305-c283-325e04631ea6"
   },
   "outputs": [
    {
     "data": {
      "text/plain": [
       "'0'"
      ]
     },
     "execution_count": 8,
     "metadata": {
      "tags": []
     },
     "output_type": "execute_result"
    }
   ],
   "source": [
    "live[\"heh\"]"
   ]
  },
  {
   "cell_type": "markdown",
   "metadata": {
    "colab_type": "text",
    "id": "d7ySHY-R7PNq"
   },
   "source": [
    "## LVC"
   ]
  },
  {
   "cell_type": "code",
   "execution_count": 9,
   "metadata": {
    "colab": {
     "base_uri": "https://localhost:8080/",
     "height": 34
    },
    "colab_type": "code",
    "executionInfo": {
     "elapsed": 26828,
     "status": "ok",
     "timestamp": 1571664531156,
     "user": {
      "displayName": "Joël Ribera",
      "photoUrl": "https://lh3.googleusercontent.com/a-/AAuE7mDdHYFeVjGGVN0Wu1DxvTjgkqpmfEoYE17a7ZOQ4A=s64",
      "userId": "18155868002666249953"
     },
     "user_tz": -120
    },
    "id": "MQj7rVjSynqH",
    "outputId": "50c88b0b-4a76-4d00-fd63-0367b5b61d5e"
   },
   "outputs": [
    {
     "data": {
      "text/plain": [
       "0"
      ]
     },
     "execution_count": 9,
     "metadata": {
      "tags": []
     },
     "output_type": "execute_result"
    }
   ],
   "source": [
    "live[\"lvc\"]\n",
    "\n",
    "#0 = True, 1 = False"
   ]
  },
  {
   "cell_type": "markdown",
   "metadata": {
    "colab_type": "text",
    "id": "E2aNrKQs05WW"
   },
   "source": [
    "We don't know the meaning of this"
   ]
  },
  {
   "cell_type": "markdown",
   "metadata": {
    "colab_type": "text",
    "id": "GHbFfF977RQP"
   },
   "source": [
    "## RCN Race corners"
   ]
  },
  {
   "cell_type": "code",
   "execution_count": 10,
   "metadata": {
    "colab": {
     "base_uri": "https://localhost:8080/",
     "height": 34
    },
    "colab_type": "code",
    "executionInfo": {
     "elapsed": 26820,
     "status": "ok",
     "timestamp": 1571664531157,
     "user": {
      "displayName": "Joël Ribera",
      "photoUrl": "https://lh3.googleusercontent.com/a-/AAuE7mDdHYFeVjGGVN0Wu1DxvTjgkqpmfEoYE17a7ZOQ4A=s64",
      "userId": "18155868002666249953"
     },
     "user_tz": -120
    },
    "id": "DpzsjoITywSG",
    "outputId": "7892f722-8a79-4245-8bc3-0aebaa16fe6c"
   },
   "outputs": [
    {
     "data": {
      "text/plain": [
       "6"
      ]
     },
     "execution_count": 10,
     "metadata": {
      "tags": []
     },
     "output_type": "execute_result"
    }
   ],
   "source": [
    "#Race Corners\n",
    "live[\"rcn\"]"
   ]
  },
  {
   "cell_type": "markdown",
   "metadata": {
    "colab_type": "text",
    "id": "JjA_M8qfyz-a"
   },
   "source": [
    "Expected number of corners allowed to  bet on:"
   ]
  },
  {
   "cell_type": "markdown",
   "metadata": {
    "colab_type": "text",
    "id": "AQjVclOa7UPF"
   },
   "source": [
    "## Zhanyi/ Weak team scores first"
   ]
  },
  {
   "cell_type": "code",
   "execution_count": 11,
   "metadata": {
    "colab": {
     "base_uri": "https://localhost:8080/",
     "height": 34
    },
    "colab_type": "code",
    "executionInfo": {
     "elapsed": 26812,
     "status": "ok",
     "timestamp": 1571664531158,
     "user": {
      "displayName": "Joël Ribera",
      "photoUrl": "https://lh3.googleusercontent.com/a-/AAuE7mDdHYFeVjGGVN0Wu1DxvTjgkqpmfEoYE17a7ZOQ4A=s64",
      "userId": "18155868002666249953"
     },
     "user_tz": -120
    },
    "id": "uxr8YqvNzXsp",
    "outputId": "29cf489e-2246-4716-df3d-2945c239f1bc"
   },
   "outputs": [
    {
     "data": {
      "text/plain": [
       "'0'"
      ]
     },
     "execution_count": 11,
     "metadata": {
      "tags": []
     },
     "output_type": "execute_result"
    }
   ],
   "source": [
    "live[\"zhanyi\"]"
   ]
  },
  {
   "cell_type": "markdown",
   "metadata": {
    "colab_type": "text",
    "id": "gYk_tb2X0zez"
   },
   "source": [
    "We exactly don't know the meaning of this"
   ]
  },
  {
   "cell_type": "markdown",
   "metadata": {
    "colab_type": "text",
    "id": "lw-OfkBe7W6p"
   },
   "source": [
    "## SD/Scoring Data"
   ]
  },
  {
   "cell_type": "code",
   "execution_count": 12,
   "metadata": {
    "colab": {
     "base_uri": "https://localhost:8080/",
     "height": 51
    },
    "colab_type": "code",
    "executionInfo": {
     "elapsed": 26799,
     "status": "ok",
     "timestamp": 1571664531158,
     "user": {
      "displayName": "Joël Ribera",
      "photoUrl": "https://lh3.googleusercontent.com/a-/AAuE7mDdHYFeVjGGVN0Wu1DxvTjgkqpmfEoYE17a7ZOQ4A=s64",
      "userId": "18155868002666249953"
     },
     "user_tz": -120
    },
    "id": "n2WnsTVA0QHE",
    "outputId": "8d6eabca-fe37-41ac-bc95-e5c4e752819e"
   },
   "outputs": [
    {
     "data": {
      "text/plain": [
       "{'f': {'hcb': None, 'hdx': '3.25', 'hrf': '0.0'},\n",
       " 'h': {'hcb': None, 'hdx': '1.25', 'hrf': '0.0'}}"
      ]
     },
     "execution_count": 12,
     "metadata": {
      "tags": []
     },
     "output_type": "execute_result"
    }
   ],
   "source": [
    "live[\"sd\"]"
   ]
  },
  {
   "cell_type": "markdown",
   "metadata": {
    "colab_type": "text",
    "id": "JuHo6v5D0V1t"
   },
   "source": [
    "\n",
    "\n",
    "*   f = full-time\n",
    "*   h = half_time\n",
    "*   hcb = betting quote? None?\n",
    "*   hdx = Expected goals \n",
    "*   hrf = Host-handicap\n",
    "\n"
   ]
  },
  {
   "cell_type": "markdown",
   "metadata": {
    "colab_type": "text",
    "id": "Et_jf0_O1QVd"
   },
   "source": [
    "## Events"
   ]
  },
  {
   "cell_type": "code",
   "execution_count": 37,
   "metadata": {
    "colab": {
     "base_uri": "https://localhost:8080/",
     "height": 34
    },
    "colab_type": "code",
    "executionInfo": {
     "elapsed": 1988,
     "status": "ok",
     "timestamp": 1571670374084,
     "user": {
      "displayName": "Joël Ribera",
      "photoUrl": "https://lh3.googleusercontent.com/a-/AAuE7mDdHYFeVjGGVN0Wu1DxvTjgkqpmfEoYE17a7ZOQ4A=s64",
      "userId": "18155868002666249953"
     },
     "user_tz": -120
    },
    "id": "bISz2_B809aq",
    "outputId": "fd865958-7c41-4953-cdc0-bc2d30beddaa"
   },
   "outputs": [
    {
     "data": {
      "text/plain": [
       "22"
      ]
     },
     "execution_count": 37,
     "metadata": {
      "tags": []
     },
     "output_type": "execute_result"
    }
   ],
   "source": [
    "live[\"events\"]\n",
    "len(live[\"events\"])"
   ]
  },
  {
   "cell_type": "code",
   "execution_count": 41,
   "metadata": {
    "colab": {
     "base_uri": "https://localhost:8080/",
     "height": 391
    },
    "colab_type": "code",
    "executionInfo": {
     "elapsed": 1272,
     "status": "ok",
     "timestamp": 1571670403770,
     "user": {
      "displayName": "Joël Ribera",
      "photoUrl": "https://lh3.googleusercontent.com/a-/AAuE7mDdHYFeVjGGVN0Wu1DxvTjgkqpmfEoYE17a7ZOQ4A=s64",
      "userId": "18155868002666249953"
     },
     "user_tz": -120
    },
    "id": "u3wiiI2P2Yg5",
    "outputId": "57112695-0675-4b24-ec45-d055cc18b94f"
   },
   "outputs": [
    {
     "name": "stdout",
     "output_type": "stream",
     "text": [
      "{'t': 'e', 'c': 'Score After Full Time - 2-1'}\n",
      "{'t': 'it', 'c': 'Second Half Injury Time: 4 Mins'}\n",
      "{'t': 'gyc', 'c': '86 - 3rd Yellow Card -  (NK Rudar Velenje)'}\n",
      "{'t': 'gc', 'c': '79 - 8th Corner - NK Rudar Velenje'}\n",
      "{'t': 'gg', 'c': '72 - 3rd Goal -   (NK Rudar Velenje) '}\n",
      "{'t': 'd', 'c': '72 - Race to 5 Corners - NK Rudar Velenje'}\n",
      "{'t': 'gc', 'c': '72 - 7th Corner - NK Rudar Velenje'}\n",
      "{'t': 'hg', 'c': '64 - 2nd Goal -   (NK Nafta 1903) '}\n",
      "{'t': 'gc', 'c': '59 - 6th Corner - NK Rudar Velenje'}\n",
      "{'t': 'd', 'c': '53 - Race to 3 Corners - NK Rudar Velenje'}\n",
      "{'t': 'gc', 'c': '53 - 5th Corner - NK Rudar Velenje'}\n",
      "{'t': 'gc', 'c': '52 - 4th Corner - NK Rudar Velenje'}\n",
      "{'t': 'hg', 'c': '49 - 1st Goal -   (NK Nafta 1903)'}\n",
      "{'t': 'h', 'c': 'Score After First Half - 0-0'}\n",
      "{'t': 'it', 'c': 'First Half Injury Time: 1 Mins'}\n",
      "{'t': 'hyc', 'c': '45 - 2nd Yellow Card -  (NK Nafta 1903)'}\n",
      "{'t': 'hc', 'c': '38 - 3rd Corner - NK Nafta 1903'}\n",
      "{'t': 'hc', 'c': '27 - 2nd Corner - NK Nafta 1903'}\n",
      "{'t': 'hyc', 'c': '12 - 1st Yellow Card -  (NK Nafta 1903)'}\n",
      "{'t': 'gc', 'c': '4 - 1st Corner - NK Rudar Velenje'}\n",
      "{'t': 'cd', 'c': 'Pitch: GOOD'}\n",
      "{'t': 'tq', 'c': 'Weather: GOOD'}\n"
     ]
    }
   ],
   "source": [
    "for i in range(len(live[\"events\"])):\n",
    "    print(live[\"events\"][i])\n"
   ]
  },
  {
   "cell_type": "markdown",
   "metadata": {
    "colab_type": "text",
    "id": "Dzz5l-nj1t5K"
   },
   "source": [
    "Explanation of the features:\n",
    "\n",
    "*   gyc = guest yellow card\n",
    "*   hyc = host yellow card\n",
    "*   hc = host corner\n",
    "*   gc = guest corner\n",
    "*   it = injury time\n",
    "*   cd  = condition of the pitch\n",
    "*   tq = weather\n",
    "*   hg = host goal\n",
    "*   gg = guest goal\n",
    "*   d = something about corners?\n",
    "\n"
   ]
  },
  {
   "cell_type": "markdown",
   "metadata": {
    "colab_type": "text",
    "id": "8GmhJS9a7gn3"
   },
   "source": [
    "## Events Graph"
   ]
  },
  {
   "cell_type": "code",
   "execution_count": 14,
   "metadata": {
    "colab": {
     "base_uri": "https://localhost:8080/",
     "height": 340
    },
    "colab_type": "code",
    "executionInfo": {
     "elapsed": 26780,
     "status": "ok",
     "timestamp": 1571664531160,
     "user": {
      "displayName": "Joël Ribera",
      "photoUrl": "https://lh3.googleusercontent.com/a-/AAuE7mDdHYFeVjGGVN0Wu1DxvTjgkqpmfEoYE17a7ZOQ4A=s64",
      "userId": "18155868002666249953"
     },
     "user_tz": -120
    },
    "id": "E3cJTJ_O1fPk",
    "outputId": "ee959d17-d8cc-4ca2-9bdb-211620c83721"
   },
   "outputs": [
    {
     "data": {
      "text/plain": [
       "{'events': [{'content': '4 - 1st Corner - NK Rudar Velenje',\n",
       "   'status': '4',\n",
       "   't': 'gc'},\n",
       "  {'content': '27 - 2nd Corner - NK Nafta 1903', 'status': '27', 't': 'hc'},\n",
       "  {'content': '38 - 3rd Corner - NK Nafta 1903', 'status': '38', 't': 'hc'},\n",
       "  {'content': '49 - 1st Goal -   (NK Nafta 1903) ', 'status': '49', 't': 'hg'},\n",
       "  {'content': '52 - 4th Corner - NK Rudar Velenje', 'status': '52', 't': 'gc'},\n",
       "  {'content': '53 - 5th Corner - NK Rudar Velenje', 'status': '53', 't': 'gc'},\n",
       "  {'content': '59 - 6th Corner - NK Rudar Velenje', 'status': '59', 't': 'gc'},\n",
       "  {'content': '64 - 2nd Goal -   (NK Nafta 1903)', 'status': '64', 't': 'hg'},\n",
       "  {'content': '72 - 7th Corner - NK Rudar Velenje', 'status': '72', 't': 'gc'},\n",
       "  {'content': '72 - 3rd Goal -   (NK Rudar Velenje)',\n",
       "   'status': '72',\n",
       "   't': 'gg'},\n",
       "  {'content': '79 - 8th Corner - NK Rudar Velenje',\n",
       "   'status': '79',\n",
       "   't': 'gc'}],\n",
       " 'ml': '90',\n",
       " 'status': '90'}"
      ]
     },
     "execution_count": 14,
     "metadata": {
      "tags": []
     },
     "output_type": "execute_result"
    }
   ],
   "source": [
    "live[\"events_graph\"]"
   ]
  },
  {
   "cell_type": "markdown",
   "metadata": {
    "colab_type": "text",
    "id": "JBCRLSTf1KW6"
   },
   "source": [
    "Information of the events:\n",
    "\n",
    "Similar to the last key, there aren't yellow cards:\n",
    "There's the status\n"
   ]
  },
  {
   "cell_type": "markdown",
   "metadata": {
    "colab_type": "text",
    "id": "hpT4knF37sRF"
   },
   "source": [
    "## SS Status (Half or Full)"
   ]
  },
  {
   "cell_type": "code",
   "execution_count": 15,
   "metadata": {
    "colab": {
     "base_uri": "https://localhost:8080/",
     "height": 34
    },
    "colab_type": "code",
    "executionInfo": {
     "elapsed": 26773,
     "status": "ok",
     "timestamp": 1571664531161,
     "user": {
      "displayName": "Joël Ribera",
      "photoUrl": "https://lh3.googleusercontent.com/a-/AAuE7mDdHYFeVjGGVN0Wu1DxvTjgkqpmfEoYE17a7ZOQ4A=s64",
      "userId": "18155868002666249953"
     },
     "user_tz": -120
    },
    "id": "uds1KVje2w9y",
    "outputId": "e5d62e10-e42a-4f17-c290-fd15161ba881"
   },
   "outputs": [
    {
     "data": {
      "text/plain": [
       "'S'"
      ]
     },
     "execution_count": 15,
     "metadata": {
      "tags": []
     },
     "output_type": "execute_result"
    }
   ],
   "source": [
    "live[\"ss\"]"
   ]
  },
  {
   "cell_type": "markdown",
   "metadata": {
    "colab_type": "text",
    "id": "6XZwoqX63J0h"
   },
   "source": [
    "Status: \n",
    "\n",
    "*   F = First - half\n",
    "*   S = Second - half\n"
   ]
  },
  {
   "cell_type": "markdown",
   "metadata": {
    "colab_type": "text",
    "id": "VMpkWcsT7wYP"
   },
   "source": [
    "## SS_TA/ Status time added"
   ]
  },
  {
   "cell_type": "code",
   "execution_count": 16,
   "metadata": {
    "colab": {
     "base_uri": "https://localhost:8080/",
     "height": 34
    },
    "colab_type": "code",
    "executionInfo": {
     "elapsed": 26760,
     "status": "ok",
     "timestamp": 1571664531162,
     "user": {
      "displayName": "Joël Ribera",
      "photoUrl": "https://lh3.googleusercontent.com/a-/AAuE7mDdHYFeVjGGVN0Wu1DxvTjgkqpmfEoYE17a7ZOQ4A=s64",
      "userId": "18155868002666249953"
     },
     "user_tz": -120
    },
    "id": "9nt9TTMo24FR",
    "outputId": "adc3a30f-d1b4-4b1a-ebd8-015571c56e52"
   },
   "outputs": [
    {
     "data": {
      "text/plain": [
       "'0'"
      ]
     },
     "execution_count": 16,
     "metadata": {
      "tags": []
     },
     "output_type": "execute_result"
    }
   ],
   "source": [
    "live[\"ss_ta\"]"
   ]
  },
  {
   "cell_type": "markdown",
   "metadata": {
    "colab_type": "text",
    "id": "5ZaieDa03Z-A"
   },
   "source": [
    "Status Time added:\n",
    "\n",
    "\n",
    "*   0 = True?\n",
    "*   1 = False?\n",
    "\n"
   ]
  },
  {
   "cell_type": "markdown",
   "metadata": {
    "colab_type": "text",
    "id": "3YL3en3g726m"
   },
   "source": [
    "## RD/ Result during match"
   ]
  },
  {
   "cell_type": "code",
   "execution_count": 17,
   "metadata": {
    "colab": {
     "base_uri": "https://localhost:8080/",
     "height": 153
    },
    "colab_type": "code",
    "executionInfo": {
     "elapsed": 26753,
     "status": "ok",
     "timestamp": 1571664531163,
     "user": {
      "displayName": "Joël Ribera",
      "photoUrl": "https://lh3.googleusercontent.com/a-/AAuE7mDdHYFeVjGGVN0Wu1DxvTjgkqpmfEoYE17a7ZOQ4A=s64",
      "userId": "18155868002666249953"
     },
     "user_tz": -120
    },
    "id": "ThDubQOd24LG",
    "outputId": "02e0a87c-5bae-4ea3-9f86-6623b165e445"
   },
   "outputs": [
    {
     "data": {
      "text/plain": [
       "{'gc': '6',\n",
       " 'gg': '1',\n",
       " 'gr': '0',\n",
       " 'gy': '1',\n",
       " 'hc': '2',\n",
       " 'hg': '2',\n",
       " 'hr': '0',\n",
       " 'hy': '2'}"
      ]
     },
     "execution_count": 17,
     "metadata": {
      "tags": []
     },
     "output_type": "execute_result"
    }
   ],
   "source": [
    "live[\"rd\"]"
   ]
  },
  {
   "cell_type": "markdown",
   "metadata": {
    "colab_type": "text",
    "id": "aa3-lo7Y3tiJ"
   },
   "source": [
    "Result during match:\n",
    "\n",
    "\n",
    "*   gc = guests corners\n",
    "*   gg = guest goal\n",
    "*   gr = guest red cards\n",
    "*   gy = guest yellow card\n",
    "*   hc = host corners\n",
    "*   hg = host goal\n",
    "*   hr = host red cards\n",
    "*   hy = host yellow card\n",
    "\n",
    "\n"
   ]
  },
  {
   "cell_type": "markdown",
   "metadata": {
    "colab_type": "text",
    "id": "uCu9Ht8h76wt"
   },
   "source": [
    "## Plus/more info"
   ]
  },
  {
   "cell_type": "code",
   "execution_count": 18,
   "metadata": {
    "colab": {
     "base_uri": "https://localhost:8080/",
     "height": 187
    },
    "colab_type": "code",
    "executionInfo": {
     "elapsed": 26745,
     "status": "ok",
     "timestamp": 1571664531164,
     "user": {
      "displayName": "Joël Ribera",
      "photoUrl": "https://lh3.googleusercontent.com/a-/AAuE7mDdHYFeVjGGVN0Wu1DxvTjgkqpmfEoYE17a7ZOQ4A=s64",
      "userId": "18155868002666249953"
     },
     "user_tz": -120
    },
    "id": "n0uhzNb924Pd",
    "outputId": "3050506c-7b39-455c-e68f-a41aef30656d"
   },
   "outputs": [
    {
     "data": {
      "text/plain": [
       "{'ga': '146',\n",
       " 'gd': '82',\n",
       " 'gqq': '59',\n",
       " 'gsf': '3',\n",
       " 'gso': '6',\n",
       " 'ha': '114',\n",
       " 'hd': '66',\n",
       " 'hqq': '41',\n",
       " 'hsf': '6',\n",
       " 'hso': '9'}"
      ]
     },
     "execution_count": 18,
     "metadata": {
      "tags": []
     },
     "output_type": "execute_result"
    }
   ],
   "source": [
    "live[\"plus\"]"
   ]
  },
  {
   "cell_type": "markdown",
   "metadata": {
    "colab_type": "text",
    "id": "pXdBCQup4FN2"
   },
   "source": [
    "Summary of the info:\n",
    "\n",
    "\n",
    "*   ga = guest attacks\n",
    "*   gd = guest dangerous attacks\n",
    "*   gsqq = guest percentage possession\n",
    "*   gsf = guest shots off-target\n",
    "*   gso = guest shots on target\n",
    "*   ha = host attacks\n",
    "*   hd = host dangerous attacks\n",
    "*   hsqq = host percentage possession\n",
    "*   hsf = host shots off-target\n",
    "*   hso = host shots on target\n"
   ]
  },
  {
   "cell_type": "markdown",
   "metadata": {
    "colab_type": "text",
    "id": "6qznIan_79JB"
   },
   "source": [
    "## RH/ Results half time"
   ]
  },
  {
   "cell_type": "code",
   "execution_count": 19,
   "metadata": {
    "colab": {
     "base_uri": "https://localhost:8080/",
     "height": 34
    },
    "colab_type": "code",
    "executionInfo": {
     "elapsed": 26738,
     "status": "ok",
     "timestamp": 1571664531165,
     "user": {
      "displayName": "Joël Ribera",
      "photoUrl": "https://lh3.googleusercontent.com/a-/AAuE7mDdHYFeVjGGVN0Wu1DxvTjgkqpmfEoYE17a7ZOQ4A=s64",
      "userId": "18155868002666249953"
     },
     "user_tz": -120
    },
    "id": "pCQgcro-24WS",
    "outputId": "c2c113e0-4676-46d9-818f-199008063807"
   },
   "outputs": [
    {
     "data": {
      "text/plain": [
       "{'gc': '1', 'gg': '0', 'hc': '2', 'hg': '0'}"
      ]
     },
     "execution_count": 19,
     "metadata": {
      "tags": []
     },
     "output_type": "execute_result"
    }
   ],
   "source": [
    "live[\"rh\"]"
   ]
  },
  {
   "cell_type": "markdown",
   "metadata": {
    "colab_type": "text",
    "id": "Jt-c56eB4qsT"
   },
   "source": [
    "Results half time:\n",
    "\n",
    "\n",
    "*   gc = guest corners\n",
    "*   gg = guest goals\n",
    "*   hc = host corners\n",
    "*   hg = host goals\n"
   ]
  },
  {
   "cell_type": "markdown",
   "metadata": {
    "colab_type": "text",
    "id": "NzyQesdd7_5-"
   },
   "source": [
    "## Status/ Match time"
   ]
  },
  {
   "cell_type": "code",
   "execution_count": 20,
   "metadata": {
    "colab": {
     "base_uri": "https://localhost:8080/",
     "height": 34
    },
    "colab_type": "code",
    "executionInfo": {
     "elapsed": 26714,
     "status": "ok",
     "timestamp": 1571664531166,
     "user": {
      "displayName": "Joël Ribera",
      "photoUrl": "https://lh3.googleusercontent.com/a-/AAuE7mDdHYFeVjGGVN0Wu1DxvTjgkqpmfEoYE17a7ZOQ4A=s64",
      "userId": "18155868002666249953"
     },
     "user_tz": -120
    },
    "id": "cepQMWuA24el",
    "outputId": "c4c23b24-bc85-4168-eb44-f6fc45c0c908"
   },
   "outputs": [
    {
     "data": {
      "text/plain": [
       "'85'"
      ]
     },
     "execution_count": 20,
     "metadata": {
      "tags": []
     },
     "output_type": "execute_result"
    }
   ],
   "source": [
    "live[\"status\"]"
   ]
  },
  {
   "cell_type": "markdown",
   "metadata": {
    "colab_type": "text",
    "id": "HEqQHxa_47KN"
   },
   "source": [
    "Match time? Isn't it over yet?"
   ]
  },
  {
   "cell_type": "markdown",
   "metadata": {
    "colab_type": "text",
    "id": "9JWYe1K_8Gbc"
   },
   "source": [
    "## Half time bet cuotes"
   ]
  },
  {
   "cell_type": "code",
   "execution_count": 21,
   "metadata": {
    "colab": {
     "base_uri": "https://localhost:8080/",
     "height": 595
    },
    "colab_type": "code",
    "executionInfo": {
     "elapsed": 26676,
     "status": "ok",
     "timestamp": 1571664531167,
     "user": {
      "displayName": "Joël Ribera",
      "photoUrl": "https://lh3.googleusercontent.com/a-/AAuE7mDdHYFeVjGGVN0Wu1DxvTjgkqpmfEoYE17a7ZOQ4A=s64",
      "userId": "18155868002666249953"
     },
     "user_tz": -120
    },
    "id": "JUs_797J3CIp",
    "outputId": "5fe77a61-e0b3-4942-8d0b-9367823b548a"
   },
   "outputs": [
    {
     "data": {
      "text/plain": [
       "{'dx': [{'dxt': '2',\n",
       "   'gdxsp': '1.375',\n",
       "   'hdx': '1.5',\n",
       "   'hdxsp': '3.000',\n",
       "   'ps': '2276'},\n",
       "  {'dxt': '2', 'gdxsp': '1.400', 'hdx': '1.5', 'hdxsp': '2.850', 'ps': '2250'},\n",
       "  {'dxt': '2', 'gdxsp': '1.425', 'hdx': '1.5', 'hdxsp': '2.750', 'ps': '2223'},\n",
       "  {'dxt': '2', 'gdxsp': '1.450', 'hdx': '1.5', 'hdxsp': '2.675', 'ps': '2196'},\n",
       "  {'dxt': '2',\n",
       "   'gdxsp': '1.475',\n",
       "   'hdx': '1.5',\n",
       "   'hdxsp': '2.600',\n",
       "   'ps': '2166'}],\n",
       " 'dxt': '2',\n",
       " 'gdxsp': '1.375',\n",
       " 'grfsp': '1.650',\n",
       " 'hdx': '1.5',\n",
       " 'hdxsp': '3.000',\n",
       " 'hrf': -0.25,\n",
       " 'hrfsp': '2.200',\n",
       " 'rf': [{'grfsp': '1.650',\n",
       "   'hrf': -0.25,\n",
       "   'hrfsp': '2.200',\n",
       "   'ps': '2276',\n",
       "   'rft': '2'},\n",
       "  {'grfsp': '1.675', 'hrf': -0.25, 'hrfsp': '2.150', 'ps': '2250', 'rft': '2'},\n",
       "  {'grfsp': '1.725', 'hrf': -0.25, 'hrfsp': '2.075', 'ps': '2223', 'rft': '2'},\n",
       "  {'grfsp': '1.750', 'hrf': -0.25, 'hrfsp': '2.050', 'ps': '2196', 'rft': '2'},\n",
       "  {'grfsp': '1.800',\n",
       "   'hrf': -0.25,\n",
       "   'hrfsp': '2.000',\n",
       "   'ps': '2166',\n",
       "   'rft': '2'}],\n",
       " 'rft': '2'}"
      ]
     },
     "execution_count": 21,
     "metadata": {
      "tags": []
     },
     "output_type": "execute_result"
    }
   ],
   "source": [
    "live[\"h_ld\"]"
   ]
  },
  {
   "cell_type": "markdown",
   "metadata": {
    "colab_type": "text",
    "id": "VV1BLMlf5RlG"
   },
   "source": [
    "First half cuote and values:\n",
    "\n",
    "*   dx = goal line quote history\n",
    "    * ps = ?\n",
    "*   dxt = ? \n",
    "*   gdxsp = ?\n",
    "*   grfsp = ?\n",
    "*   hdx = goal line cuotes\n",
    "*   hdxsp = ?\n",
    "*   hrf = current handicap quote & values\n",
    "    *   ??????????????????\n",
    "*   hrfsp = ?\n",
    "*   rf = cuotes and values  history\n",
    "    * ps = ?\n",
    "*   grfsp = ?\n",
    "*   rft = ?\n",
    "\n",
    "\n"
   ]
  },
  {
   "cell_type": "markdown",
   "metadata": {
    "colab_type": "text",
    "id": "FNiCTkhQ8Po_"
   },
   "source": [
    "## Full time cuotes"
   ]
  },
  {
   "cell_type": "code",
   "execution_count": 22,
   "metadata": {
    "colab": {
     "base_uri": "https://localhost:8080/",
     "height": 799
    },
    "colab_type": "code",
    "executionInfo": {
     "elapsed": 26661,
     "status": "ok",
     "timestamp": 1571664531168,
     "user": {
      "displayName": "Joël Ribera",
      "photoUrl": "https://lh3.googleusercontent.com/a-/AAuE7mDdHYFeVjGGVN0Wu1DxvTjgkqpmfEoYE17a7ZOQ4A=s64",
      "userId": "18155868002666249953"
     },
     "user_tz": -120
    },
    "id": "Uv4bag1H3EnD",
    "outputId": "de826b75-5301-407d-8a92-62ea3655fdce"
   },
   "outputs": [
    {
     "data": {
      "text/plain": [
       "{'dx': [{'dxt': '2',\n",
       "   'gdxsp': '1.800',\n",
       "   'hdx': '3.75',\n",
       "   'hdxsp': '2.000',\n",
       "   'ps': '2276'},\n",
       "  {'dxt': '2',\n",
       "   'gdxsp': '1.825',\n",
       "   'hdx': '3.75',\n",
       "   'hdxsp': '1.975',\n",
       "   'ps': '2250'},\n",
       "  {'dxt': '2',\n",
       "   'gdxsp': '1.850',\n",
       "   'hdx': '3.75',\n",
       "   'hdxsp': '1.950',\n",
       "   'ps': '2213'},\n",
       "  {'dxt': '2',\n",
       "   'gdxsp': '1.875',\n",
       "   'hdx': '3.75',\n",
       "   'hdxsp': '1.925',\n",
       "   'ps': '2196'},\n",
       "  {'dxt': '2',\n",
       "   'gdxsp': '1.900',\n",
       "   'hdx': '3.75',\n",
       "   'hdxsp': '1.900',\n",
       "   'ps': '2166'}],\n",
       " 'dxt': '2',\n",
       " 'gdxsp': '1.800',\n",
       " 'grfsp': '1.950',\n",
       " 'hdx': '3.75',\n",
       " 'hdxsp': '2.000',\n",
       " 'hrf': '-2',\n",
       " 'hrfsp': '1.850',\n",
       " 'rf': [{'grfsp': '1.950',\n",
       "   'hrf': '-2',\n",
       "   'hrfsp': '1.850',\n",
       "   'ps': '2250',\n",
       "   'rft': '2'},\n",
       "  {'grfsp': '1.975', 'hrf': '-2', 'hrfsp': '1.825', 'ps': '2213', 'rft': '2'},\n",
       "  {'grfsp': '2.000', 'hrf': '-2', 'hrfsp': '1.800', 'ps': '2166', 'rft': '0'},\n",
       "  {'grfsp': '1.775', 'hrf': -2.25, 'hrfsp': '2.025', 'ps': '2136', 'rft': '2'},\n",
       "  {'grfsp': '1.800',\n",
       "   'hrf': -2.25,\n",
       "   'hrfsp': '2.000',\n",
       "   'ps': '2089',\n",
       "   'rft': '2'}],\n",
       " 'rft': '2'}"
      ]
     },
     "execution_count": 22,
     "metadata": {
      "tags": []
     },
     "output_type": "execute_result"
    }
   ],
   "source": [
    "live[\"f_ld\"]"
   ]
  },
  {
   "cell_type": "markdown",
   "metadata": {
    "colab_type": "text",
    "id": "fKokpeTf61W0"
   },
   "source": [
    "Full  time cuotes and values:\n",
    "\n",
    "*   dx = goal line quote history\n",
    "    * ps = ?\n",
    "*   dxt = ? \n",
    "*   gdxsp = ?\n",
    "*   grfsp = ?\n",
    "*   hdx = goal line cuotes\n",
    "*   hdxsp = ?\n",
    "*   hrf = current handicap quote & values\n",
    "    *   ??????????????????\n",
    "*   hrfsp = ?\n",
    "*   rf = cuotes and values  history\n",
    "    * ps = ?\n",
    "*   grfsp = ?\n",
    "*   rft = ?\n"
   ]
  }
 ],
 "metadata": {
  "colab": {
   "collapsed_sections": [],
   "name": "explore.ipynb",
   "provenance": [],
   "toc_visible": true
  },
  "kernelspec": {
   "display_name": "Python 3",
   "language": "python",
   "name": "python3"
  },
  "language_info": {
   "codemirror_mode": {
    "name": "ipython",
    "version": 3
   },
   "file_extension": ".py",
   "mimetype": "text/x-python",
   "name": "python",
   "nbconvert_exporter": "python",
   "pygments_lexer": "ipython3",
   "version": "3.7.3"
  }
 },
 "nbformat": 4,
 "nbformat_minor": 1
}
